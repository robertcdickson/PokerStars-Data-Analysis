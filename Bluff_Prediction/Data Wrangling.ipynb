{
 "cells": [
  {
   "cell_type": "markdown",
   "source": [
    "# Bluff Predictions\n",
    "\n",
    "\n",
    "In this notebook, a dataframe with different betting actions and card values is used to predict if a river bet by an opponent is a bluff or not. This is a small parameter set (only a few columns) and is within the following restraints:\n",
    "\n",
    "1. There is a single river bet that is called - otherwise the players cards will not be shown. Instances where the bet is folded is the dataset on which we want to predict if the bet was a bluff\n",
    "2. There are no reraises on the river - the bet is always just called\n",
    "3. The data does not include Hero's hands - as there are many more of these than the player pool data set this would give a heavily biased data set.\n",
    "4. The player in the data point raises pre-flop and does not face a 3-bet."
   ],
   "metadata": {
    "collapsed": false
   }
  },
  {
   "cell_type": "code",
   "execution_count": 1,
   "metadata": {
    "collapsed": true
   },
   "outputs": [],
   "source": [
    "import pandas as pd\n",
    "import numpy as np\n",
    "\n",
    "df = pd.read_csv(\"../Bluff_Prediction/bluff_data.csv\")"
   ]
  },
  {
   "cell_type": "code",
   "execution_count": 2,
   "outputs": [
    {
     "data": {
      "text/plain": "       Player Name Flop Card 1 Flop Card 2 Flop Card 3 Turn Card River Card  \\\n0         Gopnik74          5d          Ks          6d        Kh         8s   \n1     psychopathko          3d          Qc          As        2h         Ac   \n2       choutyatam          Td          7s          8d        Kc         Kh   \n3       vito-lysyi          Td          3s          9s        Ac         8h   \n4     Markovich988          9d          As          Qd        Kc         6c   \n...            ...         ...         ...         ...       ...        ...   \n1288       Xsive74          6d          7s          3c        As         Ah   \n1289  George Napox          9s          2d          6s        9h         6c   \n1290      l1nh4tt1          Jd          4s          3s        4h         Ks   \n1291       Querkes          5c          8s          6d        7h         4d   \n1292       Pertuza          Ks          6h          5s        8c         3s   \n\n     Player Cards  Suited Hand Suited Hand Suit Best Ranking Flop Raise  \\\n0             A8o        False              NaN     Two Pair       True   \n1             KQo        False              NaN     Two Pair      False   \n2             T8s         True                c     Two Pair       True   \n3              77        False              NaN     One Pair        NaN   \n4             A5o        False              NaN     One Pair       True   \n...           ...          ...              ...          ...        ...   \n1288          J9o        False              NaN     One Pair       True   \n1289          65o        False              NaN   Full House        NaN   \n1290          Q9s         True                s        Flush        NaN   \n1291          A9o        False              NaN     Straight      False   \n1292           AA        False              NaN     One Pair       True   \n\n     Turn Raise  Bet Size Flop (fraction of pot)  \\\n0          True                             0.56   \n1           NaN                              NaN   \n2          True                             0.70   \n3          True                              NaN   \n4          True                             0.22   \n...         ...                              ...   \n1288        NaN                             0.45   \n1289       True                              NaN   \n1290       True                              NaN   \n1291      False                              NaN   \n1292       True                             0.50   \n\n      Bet Size Turn (fraction of pot)  Bet Size River (fraction of pot)  \\\n0                                0.47                              0.49   \n1                                 NaN                              0.36   \n2                                0.73                              0.47   \n3                                0.44                              0.47   \n4                                0.06                              0.06   \n...                               ...                               ...   \n1288                              NaN                              0.48   \n1289                             0.46                              0.98   \n1290                             0.69                              0.65   \n1291                              NaN                              2.16   \n1292                             0.96                              0.96   \n\n      Big Blind  All In All In Street  \n0          0.02   False           NaN  \n1          0.02   False           NaN  \n2          0.02   False           NaN  \n3          0.02   False           NaN  \n4          0.02   False           NaN  \n...         ...     ...           ...  \n1288       0.02   False           NaN  \n1289       0.02   False           NaN  \n1290       0.02   False           NaN  \n1291       0.02   False           NaN  \n1292       0.02   False           NaN  \n\n[1293 rows x 18 columns]",
      "text/html": "<div>\n<style scoped>\n    .dataframe tbody tr th:only-of-type {\n        vertical-align: middle;\n    }\n\n    .dataframe tbody tr th {\n        vertical-align: top;\n    }\n\n    .dataframe thead th {\n        text-align: right;\n    }\n</style>\n<table border=\"1\" class=\"dataframe\">\n  <thead>\n    <tr style=\"text-align: right;\">\n      <th></th>\n      <th>Player Name</th>\n      <th>Flop Card 1</th>\n      <th>Flop Card 2</th>\n      <th>Flop Card 3</th>\n      <th>Turn Card</th>\n      <th>River Card</th>\n      <th>Player Cards</th>\n      <th>Suited Hand</th>\n      <th>Suited Hand Suit</th>\n      <th>Best Ranking</th>\n      <th>Flop Raise</th>\n      <th>Turn Raise</th>\n      <th>Bet Size Flop (fraction of pot)</th>\n      <th>Bet Size Turn (fraction of pot)</th>\n      <th>Bet Size River (fraction of pot)</th>\n      <th>Big Blind</th>\n      <th>All In</th>\n      <th>All In Street</th>\n    </tr>\n  </thead>\n  <tbody>\n    <tr>\n      <th>0</th>\n      <td>Gopnik74</td>\n      <td>5d</td>\n      <td>Ks</td>\n      <td>6d</td>\n      <td>Kh</td>\n      <td>8s</td>\n      <td>A8o</td>\n      <td>False</td>\n      <td>NaN</td>\n      <td>Two Pair</td>\n      <td>True</td>\n      <td>True</td>\n      <td>0.56</td>\n      <td>0.47</td>\n      <td>0.49</td>\n      <td>0.02</td>\n      <td>False</td>\n      <td>NaN</td>\n    </tr>\n    <tr>\n      <th>1</th>\n      <td>psychopathko</td>\n      <td>3d</td>\n      <td>Qc</td>\n      <td>As</td>\n      <td>2h</td>\n      <td>Ac</td>\n      <td>KQo</td>\n      <td>False</td>\n      <td>NaN</td>\n      <td>Two Pair</td>\n      <td>False</td>\n      <td>NaN</td>\n      <td>NaN</td>\n      <td>NaN</td>\n      <td>0.36</td>\n      <td>0.02</td>\n      <td>False</td>\n      <td>NaN</td>\n    </tr>\n    <tr>\n      <th>2</th>\n      <td>choutyatam</td>\n      <td>Td</td>\n      <td>7s</td>\n      <td>8d</td>\n      <td>Kc</td>\n      <td>Kh</td>\n      <td>T8s</td>\n      <td>True</td>\n      <td>c</td>\n      <td>Two Pair</td>\n      <td>True</td>\n      <td>True</td>\n      <td>0.70</td>\n      <td>0.73</td>\n      <td>0.47</td>\n      <td>0.02</td>\n      <td>False</td>\n      <td>NaN</td>\n    </tr>\n    <tr>\n      <th>3</th>\n      <td>vito-lysyi</td>\n      <td>Td</td>\n      <td>3s</td>\n      <td>9s</td>\n      <td>Ac</td>\n      <td>8h</td>\n      <td>77</td>\n      <td>False</td>\n      <td>NaN</td>\n      <td>One Pair</td>\n      <td>NaN</td>\n      <td>True</td>\n      <td>NaN</td>\n      <td>0.44</td>\n      <td>0.47</td>\n      <td>0.02</td>\n      <td>False</td>\n      <td>NaN</td>\n    </tr>\n    <tr>\n      <th>4</th>\n      <td>Markovich988</td>\n      <td>9d</td>\n      <td>As</td>\n      <td>Qd</td>\n      <td>Kc</td>\n      <td>6c</td>\n      <td>A5o</td>\n      <td>False</td>\n      <td>NaN</td>\n      <td>One Pair</td>\n      <td>True</td>\n      <td>True</td>\n      <td>0.22</td>\n      <td>0.06</td>\n      <td>0.06</td>\n      <td>0.02</td>\n      <td>False</td>\n      <td>NaN</td>\n    </tr>\n    <tr>\n      <th>...</th>\n      <td>...</td>\n      <td>...</td>\n      <td>...</td>\n      <td>...</td>\n      <td>...</td>\n      <td>...</td>\n      <td>...</td>\n      <td>...</td>\n      <td>...</td>\n      <td>...</td>\n      <td>...</td>\n      <td>...</td>\n      <td>...</td>\n      <td>...</td>\n      <td>...</td>\n      <td>...</td>\n      <td>...</td>\n      <td>...</td>\n    </tr>\n    <tr>\n      <th>1288</th>\n      <td>Xsive74</td>\n      <td>6d</td>\n      <td>7s</td>\n      <td>3c</td>\n      <td>As</td>\n      <td>Ah</td>\n      <td>J9o</td>\n      <td>False</td>\n      <td>NaN</td>\n      <td>One Pair</td>\n      <td>True</td>\n      <td>NaN</td>\n      <td>0.45</td>\n      <td>NaN</td>\n      <td>0.48</td>\n      <td>0.02</td>\n      <td>False</td>\n      <td>NaN</td>\n    </tr>\n    <tr>\n      <th>1289</th>\n      <td>George Napox</td>\n      <td>9s</td>\n      <td>2d</td>\n      <td>6s</td>\n      <td>9h</td>\n      <td>6c</td>\n      <td>65o</td>\n      <td>False</td>\n      <td>NaN</td>\n      <td>Full House</td>\n      <td>NaN</td>\n      <td>True</td>\n      <td>NaN</td>\n      <td>0.46</td>\n      <td>0.98</td>\n      <td>0.02</td>\n      <td>False</td>\n      <td>NaN</td>\n    </tr>\n    <tr>\n      <th>1290</th>\n      <td>l1nh4tt1</td>\n      <td>Jd</td>\n      <td>4s</td>\n      <td>3s</td>\n      <td>4h</td>\n      <td>Ks</td>\n      <td>Q9s</td>\n      <td>True</td>\n      <td>s</td>\n      <td>Flush</td>\n      <td>NaN</td>\n      <td>True</td>\n      <td>NaN</td>\n      <td>0.69</td>\n      <td>0.65</td>\n      <td>0.02</td>\n      <td>False</td>\n      <td>NaN</td>\n    </tr>\n    <tr>\n      <th>1291</th>\n      <td>Querkes</td>\n      <td>5c</td>\n      <td>8s</td>\n      <td>6d</td>\n      <td>7h</td>\n      <td>4d</td>\n      <td>A9o</td>\n      <td>False</td>\n      <td>NaN</td>\n      <td>Straight</td>\n      <td>False</td>\n      <td>False</td>\n      <td>NaN</td>\n      <td>NaN</td>\n      <td>2.16</td>\n      <td>0.02</td>\n      <td>False</td>\n      <td>NaN</td>\n    </tr>\n    <tr>\n      <th>1292</th>\n      <td>Pertuza</td>\n      <td>Ks</td>\n      <td>6h</td>\n      <td>5s</td>\n      <td>8c</td>\n      <td>3s</td>\n      <td>AA</td>\n      <td>False</td>\n      <td>NaN</td>\n      <td>One Pair</td>\n      <td>True</td>\n      <td>True</td>\n      <td>0.50</td>\n      <td>0.96</td>\n      <td>0.96</td>\n      <td>0.02</td>\n      <td>False</td>\n      <td>NaN</td>\n    </tr>\n  </tbody>\n</table>\n<p>1293 rows × 18 columns</p>\n</div>"
     },
     "execution_count": 2,
     "metadata": {},
     "output_type": "execute_result"
    }
   ],
   "source": [
    "df"
   ],
   "metadata": {
    "collapsed": false
   }
  },
  {
   "cell_type": "code",
   "execution_count": 3,
   "outputs": [
    {
     "data": {
      "text/plain": "(1293, 18)"
     },
     "execution_count": 3,
     "metadata": {},
     "output_type": "execute_result"
    }
   ],
   "source": [
    "df.shape"
   ],
   "metadata": {
    "collapsed": false
   }
  },
  {
   "cell_type": "markdown",
   "source": [
    "So there are around 1300 data entries. A lot for most purposes but in poker terms actually quite limited. We now want to see what is the ranking of hand they have at showdown (when cards are revealed)"
   ],
   "metadata": {
    "collapsed": false
   }
  },
  {
   "cell_type": "code",
   "execution_count": 4,
   "outputs": [
    {
     "data": {
      "text/plain": "Best Ranking\nFlush               8.352668\nFour-Of-A-Kind      0.386698\nFull House          7.424594\nHigh Card           7.347254\nOne Pair           30.239753\nStraight            9.667440\nThree-Of-A-Kind     9.667440\nTwo Pair           26.914153\nName: Best Ranking, dtype: float64"
     },
     "execution_count": 4,
     "metadata": {},
     "output_type": "execute_result"
    }
   ],
   "source": [
    "100 * df.groupby(\"Best Ranking\")[\"Best Ranking\"].count() / len(df)"
   ],
   "metadata": {
    "collapsed": false
   }
  },
  {
   "cell_type": "markdown",
   "source": [
    "7.3 % of hands shown at showdown are with the lowest ranking - a high card. Although higher rankings can occasionaly be turned in to a bluff by the river (imagine having 22 on AKQT9 for example) for the sake of simplicity we say that a high card bet on the river is a bluff while all other ranks better are classified as a value bet (where the player was betting because they thought they had the best hand). The beautiful complexity of poker means there are many, many edge cases where these rules may not hold, but for a first model this is the simplest implementation. We now want to encode the best ranking to either bluff or value."
   ],
   "metadata": {
    "collapsed": false
   }
  },
  {
   "cell_type": "code",
   "execution_count": 5,
   "outputs": [
    {
     "data": {
      "text/plain": "    Player Name Flop Card 1 Flop Card 2 Flop Card 3 Turn Card River Card  \\\n0      Gopnik74          5d          Ks          6d        Kh         8s   \n1  psychopathko          3d          Qc          As        2h         Ac   \n2    choutyatam          Td          7s          8d        Kc         Kh   \n3    vito-lysyi          Td          3s          9s        Ac         8h   \n4  Markovich988          9d          As          Qd        Kc         6c   \n\n  Player Cards  Suited Hand Suited Hand Suit Best Ranking Flop Raise  \\\n0          A8o        False              NaN     Two Pair       True   \n1          KQo        False              NaN     Two Pair      False   \n2          T8s         True                c     Two Pair       True   \n3           77        False              NaN     One Pair        NaN   \n4          A5o        False              NaN     One Pair       True   \n\n  Turn Raise  Bet Size Flop (fraction of pot)  \\\n0       True                             0.56   \n1        NaN                              NaN   \n2       True                             0.70   \n3       True                              NaN   \n4       True                             0.22   \n\n   Bet Size Turn (fraction of pot)  Bet Size River (fraction of pot)  \\\n0                             0.47                              0.49   \n1                              NaN                              0.36   \n2                             0.73                              0.47   \n3                             0.44                              0.47   \n4                             0.06                              0.06   \n\n   Big Blind  All In All In Street  Bluff  \n0       0.02   False           NaN      0  \n1       0.02   False           NaN      0  \n2       0.02   False           NaN      0  \n3       0.02   False           NaN      0  \n4       0.02   False           NaN      0  ",
      "text/html": "<div>\n<style scoped>\n    .dataframe tbody tr th:only-of-type {\n        vertical-align: middle;\n    }\n\n    .dataframe tbody tr th {\n        vertical-align: top;\n    }\n\n    .dataframe thead th {\n        text-align: right;\n    }\n</style>\n<table border=\"1\" class=\"dataframe\">\n  <thead>\n    <tr style=\"text-align: right;\">\n      <th></th>\n      <th>Player Name</th>\n      <th>Flop Card 1</th>\n      <th>Flop Card 2</th>\n      <th>Flop Card 3</th>\n      <th>Turn Card</th>\n      <th>River Card</th>\n      <th>Player Cards</th>\n      <th>Suited Hand</th>\n      <th>Suited Hand Suit</th>\n      <th>Best Ranking</th>\n      <th>Flop Raise</th>\n      <th>Turn Raise</th>\n      <th>Bet Size Flop (fraction of pot)</th>\n      <th>Bet Size Turn (fraction of pot)</th>\n      <th>Bet Size River (fraction of pot)</th>\n      <th>Big Blind</th>\n      <th>All In</th>\n      <th>All In Street</th>\n      <th>Bluff</th>\n    </tr>\n  </thead>\n  <tbody>\n    <tr>\n      <th>0</th>\n      <td>Gopnik74</td>\n      <td>5d</td>\n      <td>Ks</td>\n      <td>6d</td>\n      <td>Kh</td>\n      <td>8s</td>\n      <td>A8o</td>\n      <td>False</td>\n      <td>NaN</td>\n      <td>Two Pair</td>\n      <td>True</td>\n      <td>True</td>\n      <td>0.56</td>\n      <td>0.47</td>\n      <td>0.49</td>\n      <td>0.02</td>\n      <td>False</td>\n      <td>NaN</td>\n      <td>0</td>\n    </tr>\n    <tr>\n      <th>1</th>\n      <td>psychopathko</td>\n      <td>3d</td>\n      <td>Qc</td>\n      <td>As</td>\n      <td>2h</td>\n      <td>Ac</td>\n      <td>KQo</td>\n      <td>False</td>\n      <td>NaN</td>\n      <td>Two Pair</td>\n      <td>False</td>\n      <td>NaN</td>\n      <td>NaN</td>\n      <td>NaN</td>\n      <td>0.36</td>\n      <td>0.02</td>\n      <td>False</td>\n      <td>NaN</td>\n      <td>0</td>\n    </tr>\n    <tr>\n      <th>2</th>\n      <td>choutyatam</td>\n      <td>Td</td>\n      <td>7s</td>\n      <td>8d</td>\n      <td>Kc</td>\n      <td>Kh</td>\n      <td>T8s</td>\n      <td>True</td>\n      <td>c</td>\n      <td>Two Pair</td>\n      <td>True</td>\n      <td>True</td>\n      <td>0.70</td>\n      <td>0.73</td>\n      <td>0.47</td>\n      <td>0.02</td>\n      <td>False</td>\n      <td>NaN</td>\n      <td>0</td>\n    </tr>\n    <tr>\n      <th>3</th>\n      <td>vito-lysyi</td>\n      <td>Td</td>\n      <td>3s</td>\n      <td>9s</td>\n      <td>Ac</td>\n      <td>8h</td>\n      <td>77</td>\n      <td>False</td>\n      <td>NaN</td>\n      <td>One Pair</td>\n      <td>NaN</td>\n      <td>True</td>\n      <td>NaN</td>\n      <td>0.44</td>\n      <td>0.47</td>\n      <td>0.02</td>\n      <td>False</td>\n      <td>NaN</td>\n      <td>0</td>\n    </tr>\n    <tr>\n      <th>4</th>\n      <td>Markovich988</td>\n      <td>9d</td>\n      <td>As</td>\n      <td>Qd</td>\n      <td>Kc</td>\n      <td>6c</td>\n      <td>A5o</td>\n      <td>False</td>\n      <td>NaN</td>\n      <td>One Pair</td>\n      <td>True</td>\n      <td>True</td>\n      <td>0.22</td>\n      <td>0.06</td>\n      <td>0.06</td>\n      <td>0.02</td>\n      <td>False</td>\n      <td>NaN</td>\n      <td>0</td>\n    </tr>\n  </tbody>\n</table>\n</div>"
     },
     "execution_count": 5,
     "metadata": {},
     "output_type": "execute_result"
    }
   ],
   "source": [
    "df[\"Bluff\"] = np.where(df[\"Best Ranking\"] == 'High Card', 1, 0)\n",
    "df.head()"
   ],
   "metadata": {
    "collapsed": false
   }
  },
  {
   "cell_type": "markdown",
   "source": [
    "1\\. Player Cards\n",
    "---\n",
    "\n",
    "Currently the 'Player Cards' feature has the suitedness of the hand in it. We have a separate feature for this so we will remove the trailing suitedness from 'Player Cards."
   ],
   "metadata": {
    "collapsed": false
   }
  },
  {
   "cell_type": "code",
   "execution_count": 6,
   "outputs": [
    {
     "data": {
      "text/plain": "0       A8\n1       KQ\n2       T8\n3       77\n4       A5\n        ..\n1288    J9\n1289    65\n1290    Q9\n1291    A9\n1292    AA\nName: Player Cards, Length: 1293, dtype: object"
     },
     "execution_count": 6,
     "metadata": {},
     "output_type": "execute_result"
    }
   ],
   "source": [
    "df[\"Player Cards\"] = (df['Player Cards']).where(df['Player Cards'].str.len() < 2, df['Player Cards'].str[0:2])\n",
    "df[\"Player Cards\"]"
   ],
   "metadata": {
    "collapsed": false
   }
  },
  {
   "cell_type": "markdown",
   "source": [
    "2\\. Flop Card Values\n",
    "---\n",
    "The Flop cards have no inherent order and only the values and suits need to be considered. For the purposes of a simple model we are going to decouple the suit and value of each card. We then reorder these (value on high to low and suit in alphabetical order)."
   ],
   "metadata": {
    "collapsed": false
   }
  },
  {
   "cell_type": "code",
   "execution_count": 7,
   "outputs": [
    {
     "data": {
      "text/plain": "0       K65\n1       AQ3\n2       T87\n3       T93\n4       AQ9\n       ... \n1288    763\n1289    962\n1290    J43\n1291    865\n1292    K65\nName: Flop Cards Encoded, Length: 1293, dtype: object"
     },
     "execution_count": 7,
     "metadata": {},
     "output_type": "execute_result"
    }
   ],
   "source": [
    "value_mappings = {\n",
    "    'A': 14,\n",
    "    'K': 13,\n",
    "    'Q': 12,\n",
    "    'J': 11,\n",
    "    'T': 10,\n",
    "    '9': 9,\n",
    "    '8': 8,\n",
    "    '7': 7,\n",
    "    '6': 6,\n",
    "    '5': 5,\n",
    "    '4': 4,\n",
    "    '3': 3,\n",
    "    '2': 2,\n",
    "}\n",
    "\n",
    "df[\"Flop Cards Encoded\"] = df[\"Flop Card 1\"].str[0] + df[\"Flop Card 2\"].str[0] + df[\"Flop Card 3\"].str[0]\n",
    "list_of_encoded_cards = df[\"Flop Cards Encoded\"].to_list()\n",
    "\n",
    "for i in range(len(list_of_encoded_cards)):\n",
    "    list_of_encoded_cards[i] = ''.join(sorted(list_of_encoded_cards[i], key=lambda x: value_mappings[x], reverse=True))\n",
    "df[\"Flop Cards Encoded\"] = list_of_encoded_cards\n",
    "df[\"Flop Cards Encoded\"]"
   ],
   "metadata": {
    "collapsed": false
   }
  },
  {
   "cell_type": "markdown",
   "source": [
    "If we group each of these flops and count the number of times they appear, we can see that the data is very sparse with many flops found only a single time. Perhaps then this model works best with 3 unique features instead of a single aggregated flop feature."
   ],
   "metadata": {
    "collapsed": false
   }
  },
  {
   "cell_type": "code",
   "execution_count": 8,
   "outputs": [],
   "source": [
    "df[\"Flop Card 1 Value\"] = df[\"Flop Cards Encoded\"].str[0]\n",
    "df[\"Flop Card 2 Value\"] = df[\"Flop Cards Encoded\"].str[1]\n",
    "df[\"Flop Card 3 Value\"] = df[\"Flop Cards Encoded\"].str[2]\n",
    "df[\"Turn Card Value\"] = df[\"Turn Card\"].str[0]\n",
    "df[\"River Card Value\"] = df[\"River Card\"].str[0]\n"
   ],
   "metadata": {
    "collapsed": false
   }
  },
  {
   "cell_type": "markdown",
   "source": [
    "3\\. Flop Suits\n",
    "---\n",
    "\n",
    "We want to change the flop suits from specific suits to the actual meaning of the number of these suits. There are a few different ways to construct this but the simplest is to give each flop a label of the following:\n",
    "\n",
    "- 'rainbow' where all 3 cards have different suits i.e. aaa\n",
    "- 'two-tone' where 2 cards have the same suit i.e. aab\n",
    "- 'monotone' where all 3 cards have the same suit i.e. abc\n",
    "\n",
    "This requires a single feature. For the turn this needs extended to\n",
    "\n",
    "- 'rainbow' i.e. abc d\n",
    "- 'single flush draw' i.e. abc a\n",
    "\n",
    "- 'double flush draw' i.e. aab b\n",
    "- 'flush completing' i.e. aab a\n",
    "- 'two-tone blank' i.e. aab c\n",
    "\n",
    "- 'four flush' i.e. aaa a\n",
    "- 'monotone blank' i.e. aaa b\n",
    "\n",
    "and finally on the river the 24 possible combinations are:\n",
    "\n",
    "- abc d a\n",
    "- abc d b\n",
    "- abc d c\n",
    "- abc d d\n",
    "\n",
    "- abc a a\n",
    "- abc a b\n",
    "- abc a c\n",
    "- abc a d\n",
    "\n",
    "- aab b a\n",
    "- aab b b\n",
    "- aab b c\n",
    "\n",
    "- aab a a\n",
    "- aab a b\n",
    "- aab a c\n",
    "\n",
    "- aab c a\n",
    "- aab c b\n",
    "- aab c c\n",
    "- aab c d\n",
    "\n",
    "- aaa a a\n",
    "- aaa a b\n",
    "\n",
    "- aaa b a\n",
    "- aaa b b\n",
    "- aaa b c"
   ],
   "metadata": {
    "collapsed": false
   }
  },
  {
   "cell_type": "markdown",
   "source": [],
   "metadata": {
    "collapsed": false
   }
  },
  {
   "cell_type": "code",
   "execution_count": 9,
   "outputs": [
    {
     "data": {
      "text/plain": "0       aabbc\n1       abcbd\n2       aabcd\n3       aabcd\n4       aabcc\n        ...  \n1288    abcbd\n1289    aabcd\n1290    aaabc\n1291    abccd\n1292    aaabc\nName: Board Suit, Length: 1293, dtype: object"
     },
     "execution_count": 9,
     "metadata": {},
     "output_type": "execute_result"
    }
   ],
   "source": [
    "from collections import Counter\n",
    "\n",
    "df['Board Suit'] = df[\"Flop Card 1\"].str[1] + df[\"Flop Card 2\"].str[1] + df[\"Flop Card 3\"].str[1] + df[\"Turn Card\"].str[\n",
    "    1] + df[\"River Card\"].str[1]\n",
    "\n",
    "list_of_encoded_cards = df[\"Board Suit\"].to_list()\n",
    "\n",
    "for i in range(len(list_of_encoded_cards)):\n",
    "\n",
    "    # count most common suits\n",
    "    counter = Counter(list_of_encoded_cards[i][0:3])\n",
    "    for suit in ['c', 'd', 'h', 's']:\n",
    "        if suit not in counter:\n",
    "            counter[suit] = 0\n",
    "\n",
    "    # order by most common\n",
    "    list_of_encoded_cards[i] = ''.join(sorted(list_of_encoded_cards[i], key=lambda x: counter[x], reverse=True))\n",
    "    letters = 'abcd'\n",
    "\n",
    "    # looping through every character in the string and replacing with the first 4 letters of the alphabet\n",
    "    new_string = ''\n",
    "    mapping = {}\n",
    "    k = 0\n",
    "    for j in list_of_encoded_cards[i]:\n",
    "        if j not in mapping:\n",
    "            mapping[j] = letters[k]\n",
    "            k += 1\n",
    "        new_string += mapping[j]\n",
    "\n",
    "    list_of_encoded_cards[i] = new_string\n",
    "\n",
    "df[\"Board Suit\"] = list_of_encoded_cards\n",
    "df[\"Board Suit\"]"
   ],
   "metadata": {
    "collapsed": false
   }
  },
  {
   "cell_type": "markdown",
   "source": [
    "4\\. Bet Sizing\n",
    "===\n",
    "The almost infinite number of bet sizes gives us another problem with dealing with very sparse data\n"
   ],
   "metadata": {
    "collapsed": false
   }
  },
  {
   "cell_type": "code",
   "execution_count": 10,
   "outputs": [],
   "source": [
    "import matplotlib.pyplot as plt\n",
    "\n",
    "plt.style.use('dark_background')\n",
    "colours = plt.rcParams['axes.prop_cycle'].by_key()['color']\n",
    "\n",
    "bet_sizes_flop = df[\"Bet Size Flop (fraction of pot)\"].groupby(df[\"Bet Size Flop (fraction of pot)\"]).count()\n",
    "bet_sizes_turn = df[\"Bet Size Turn (fraction of pot)\"].groupby(df[\"Bet Size Turn (fraction of pot)\"]).count()\n",
    "bet_sizes_river = df[\"Bet Size River (fraction of pot)\"].groupby(df[\"Bet Size River (fraction of pot)\"]).count()\n"
   ],
   "metadata": {
    "collapsed": false
   }
  },
  {
   "cell_type": "code",
   "execution_count": 11,
   "outputs": [
    {
     "data": {
      "text/plain": "(0.0, 110.0)"
     },
     "execution_count": 11,
     "metadata": {},
     "output_type": "execute_result"
    },
    {
     "data": {
      "text/plain": "<Figure size 1944x1296 with 3 Axes>",
      "image/png": "[encoded data removed]"
     },
     "metadata": {},
     "output_type": "display_data"
    }
   ],
   "source": [
    "fig, axes = plt.subplots(nrows=3, ncols=1, figsize=(27, 18))\n",
    "bet_sizes_flop.plot.bar(ax=axes[0], color=colours[0])\n",
    "bet_sizes_turn.plot.bar(ax=axes[1], color=colours[1])\n",
    "bet_sizes_river.plot.bar(ax=axes[2], color=colours[2])\n",
    "\n",
    "axes[0].set_xlim(0, 80)\n",
    "axes[1].set_xlim(0, 90)\n",
    "axes[2].set_xlim(0, 110)\n"
   ],
   "metadata": {
    "collapsed": false
   }
  },
  {
   "cell_type": "markdown",
   "source": [
    "There are a few distinct regions here with 33 %, 50%, 67%, and 100 % pot being modelled chosen the most frequently. For simplicity, we therefore pick the following sizings\n",
    "\n",
    "- Min\n",
    "- 33 %\n",
    "- 50 %\n",
    "- 67 %\n",
    "- 100+ %"
   ],
   "metadata": {
    "collapsed": false
   }
  },
  {
   "cell_type": "code",
   "execution_count": 12,
   "outputs": [
    {
     "data": {
      "text/plain": "     Flop Bet Size Turn Bet Size River Bet Size\n0              50%           50%            50%\n1              nan           nan            33%\n2              67%           67%            50%\n3              nan           50%            50%\n4              33%           min            min\n...            ...           ...            ...\n1288           50%           nan            50%\n1289           nan           50%          100+%\n1290           nan           67%            67%\n1291           nan           nan          100+%\n1292           50%         100+%          100+%\n\n[1293 rows x 3 columns]",
      "text/html": "<div>\n<style scoped>\n    .dataframe tbody tr th:only-of-type {\n        vertical-align: middle;\n    }\n\n    .dataframe tbody tr th {\n        vertical-align: top;\n    }\n\n    .dataframe thead th {\n        text-align: right;\n    }\n</style>\n<table border=\"1\" class=\"dataframe\">\n  <thead>\n    <tr style=\"text-align: right;\">\n      <th></th>\n      <th>Flop Bet Size</th>\n      <th>Turn Bet Size</th>\n      <th>River Bet Size</th>\n    </tr>\n  </thead>\n  <tbody>\n    <tr>\n      <th>0</th>\n      <td>50%</td>\n      <td>50%</td>\n      <td>50%</td>\n    </tr>\n    <tr>\n      <th>1</th>\n      <td>nan</td>\n      <td>nan</td>\n      <td>33%</td>\n    </tr>\n    <tr>\n      <th>2</th>\n      <td>67%</td>\n      <td>67%</td>\n      <td>50%</td>\n    </tr>\n    <tr>\n      <th>3</th>\n      <td>nan</td>\n      <td>50%</td>\n      <td>50%</td>\n    </tr>\n    <tr>\n      <th>4</th>\n      <td>33%</td>\n      <td>min</td>\n      <td>min</td>\n    </tr>\n    <tr>\n      <th>...</th>\n      <td>...</td>\n      <td>...</td>\n      <td>...</td>\n    </tr>\n    <tr>\n      <th>1288</th>\n      <td>50%</td>\n      <td>nan</td>\n      <td>50%</td>\n    </tr>\n    <tr>\n      <th>1289</th>\n      <td>nan</td>\n      <td>50%</td>\n      <td>100+%</td>\n    </tr>\n    <tr>\n      <th>1290</th>\n      <td>nan</td>\n      <td>67%</td>\n      <td>67%</td>\n    </tr>\n    <tr>\n      <th>1291</th>\n      <td>nan</td>\n      <td>nan</td>\n      <td>100+%</td>\n    </tr>\n    <tr>\n      <th>1292</th>\n      <td>50%</td>\n      <td>100+%</td>\n      <td>100+%</td>\n    </tr>\n  </tbody>\n</table>\n<p>1293 rows × 3 columns</p>\n</div>"
     },
     "execution_count": 12,
     "metadata": {},
     "output_type": "execute_result"
    }
   ],
   "source": [
    "col = ['Bet Size Flop (fraction of pot)', 'Bet Size Turn (fraction of pot)', 'Bet Size River (fraction of pot)']\n",
    "conditions = [\n",
    "    (df[col] <= 0.2),\n",
    "    (0.2 < df[col]) & (df[col] <= 0.4),\n",
    "    (0.4 < df[col]) & (df[col] <= 0.6),\n",
    "    (0.6 < df[col]) & (df[col] <= 0.9),\n",
    "    (0.9 < df[col]),\n",
    "]\n",
    "choices = [\"min\", '33%', '50%', '67%', '100+%']\n",
    "\n",
    "df[[\"Flop Bet Size\", \"Turn Bet Size\", \"River Bet Size\"]] = np.select(conditions, choices, default=np.nan)\n",
    "df[[\"Flop Bet Size\", \"Turn Bet Size\", \"River Bet Size\"]]"
   ],
   "metadata": {
    "collapsed": false
   }
  },
  {
   "cell_type": "code",
   "execution_count": null,
   "outputs": [],
   "source": [
    "df.drop([\"Flop Card 1\", \"Flop Card 2\", \"Flop Card 3\", \"Turn Card\", \"River Card\", \"Flop Cards Encoded\",\n",
    "         \"Bet Size Flop (fraction of pot)\", \"Bet Size Turn (fraction of pot)\", \"Bet Size River (fraction of pot)\", \"Suited Hand Suit\"],\n",
    "        axis=1,\n",
    "        inplace=True)"
   ],
   "metadata": {
    "collapsed": false
   }
  },
  {
   "cell_type": "code",
   "execution_count": 18,
   "outputs": [],
   "source": [
    "df = df[\n",
    "    [\n",
    "        'Player Name',\n",
    "        'Flop Card 1 Value',\n",
    "        'Flop Card 2 Value',\n",
    "        'Flop Card 3 Value',\n",
    "        'Turn Card Value',\n",
    "        'River Card Value',\n",
    "        'Player Cards',\n",
    "        'Suited Hand',\n",
    "        'Board Suit',\n",
    "        'Flop Raise',\n",
    "        'Turn Raise',\n",
    "        'Flop Bet Size',\n",
    "        'Turn Bet Size',\n",
    "        'River Bet Size',\n",
    "        'All In',\n",
    "        'All In Street',\n",
    "        'Big Blind',\n",
    "        'Best Ranking',\n",
    "        'Bluff'\n",
    "    ]\n",
    "]\n",
    "df.to_csv(\"./bluff_data_clean.csv\")"
   ],
   "metadata": {
    "collapsed": false
   }
  },
  {
   "cell_type": "markdown",
   "source": [
    "We denote a bluff as the positive case (1) while a value bet is the negative case (0)"
   ],
   "metadata": {
    "collapsed": false
   }
  },
  {
   "cell_type": "code",
   "execution_count": 14,
   "outputs": [
    {
     "ename": "KeyError",
     "evalue": "\"['Flop Card 1', 'Bet Size Flop (fraction of pot)', 'Bet Size River (fraction of pot)', 'Flop Card 3', 'River Card', 'Flop Card 2', 'Suited Hand Suit', 'Turn Card', 'Bet Size Turn (fraction of pot)'] not in index\"",
     "output_type": "error",
     "traceback": [
      "\u001B[0;31m---------------------------------------------------------------------------\u001B[0m",
      "\u001B[0;31mKeyError\u001B[0m                                  Traceback (most recent call last)",
      "\u001B[0;32m<ipython-input-14-ade7ed11250c>\u001B[0m in \u001B[0;36m<module>\u001B[0;34m\u001B[0m\n\u001B[1;32m      1\u001B[0m \u001B[0;32mfrom\u001B[0m \u001B[0msklearn\u001B[0m\u001B[0;34m.\u001B[0m\u001B[0mmodel_selection\u001B[0m \u001B[0;32mimport\u001B[0m \u001B[0mtrain_test_split\u001B[0m\u001B[0;34m\u001B[0m\u001B[0;34m\u001B[0m\u001B[0m\n\u001B[1;32m      2\u001B[0m \u001B[0;34m\u001B[0m\u001B[0m\n\u001B[0;32m----> 3\u001B[0;31m X = df[[\"Flop Card 1\", \"Flop Card 2\", \"Flop Card 3\", \"Turn Card\", \"River Card\", \"Player Cards\", \"Suited Hand\",\n\u001B[0m\u001B[1;32m      4\u001B[0m         \u001B[0;34m\"Suited Hand Suit\"\u001B[0m\u001B[0;34m,\u001B[0m \u001B[0;34m\"Flop Raise\"\u001B[0m\u001B[0;34m,\u001B[0m \u001B[0;34m\"Turn Raise\"\u001B[0m\u001B[0;34m,\u001B[0m \u001B[0;34m\"Bet Size Flop (fraction of pot)\"\u001B[0m\u001B[0;34m,\u001B[0m\u001B[0;34m\u001B[0m\u001B[0;34m\u001B[0m\u001B[0m\n\u001B[1;32m      5\u001B[0m         \"Bet Size Turn (fraction of pot)\", \"Bet Size River (fraction of pot)\", \"Big Blind\", \"All In\", \"All In Street\"]]\n",
      "\u001B[0;32m~/.local/lib/python3.8/site-packages/pandas/core/frame.py\u001B[0m in \u001B[0;36m__getitem__\u001B[0;34m(self, key)\u001B[0m\n\u001B[1;32m   2906\u001B[0m             \u001B[0;32mif\u001B[0m \u001B[0mis_iterator\u001B[0m\u001B[0;34m(\u001B[0m\u001B[0mkey\u001B[0m\u001B[0;34m)\u001B[0m\u001B[0;34m:\u001B[0m\u001B[0;34m\u001B[0m\u001B[0;34m\u001B[0m\u001B[0m\n\u001B[1;32m   2907\u001B[0m                 \u001B[0mkey\u001B[0m \u001B[0;34m=\u001B[0m \u001B[0mlist\u001B[0m\u001B[0;34m(\u001B[0m\u001B[0mkey\u001B[0m\u001B[0;34m)\u001B[0m\u001B[0;34m\u001B[0m\u001B[0;34m\u001B[0m\u001B[0m\n\u001B[0;32m-> 2908\u001B[0;31m             \u001B[0mindexer\u001B[0m \u001B[0;34m=\u001B[0m \u001B[0mself\u001B[0m\u001B[0;34m.\u001B[0m\u001B[0mloc\u001B[0m\u001B[0;34m.\u001B[0m\u001B[0m_get_listlike_indexer\u001B[0m\u001B[0;34m(\u001B[0m\u001B[0mkey\u001B[0m\u001B[0;34m,\u001B[0m \u001B[0maxis\u001B[0m\u001B[0;34m=\u001B[0m\u001B[0;36m1\u001B[0m\u001B[0;34m,\u001B[0m \u001B[0mraise_missing\u001B[0m\u001B[0;34m=\u001B[0m\u001B[0;32mTrue\u001B[0m\u001B[0;34m)\u001B[0m\u001B[0;34m[\u001B[0m\u001B[0;36m1\u001B[0m\u001B[0;34m]\u001B[0m\u001B[0;34m\u001B[0m\u001B[0;34m\u001B[0m\u001B[0m\n\u001B[0m\u001B[1;32m   2909\u001B[0m \u001B[0;34m\u001B[0m\u001B[0m\n\u001B[1;32m   2910\u001B[0m         \u001B[0;31m# take() does not accept boolean indexers\u001B[0m\u001B[0;34m\u001B[0m\u001B[0;34m\u001B[0m\u001B[0;34m\u001B[0m\u001B[0m\n",
      "\u001B[0;32m~/.local/lib/python3.8/site-packages/pandas/core/indexing.py\u001B[0m in \u001B[0;36m_get_listlike_indexer\u001B[0;34m(self, key, axis, raise_missing)\u001B[0m\n\u001B[1;32m   1252\u001B[0m             \u001B[0mkeyarr\u001B[0m\u001B[0;34m,\u001B[0m \u001B[0mindexer\u001B[0m\u001B[0;34m,\u001B[0m \u001B[0mnew_indexer\u001B[0m \u001B[0;34m=\u001B[0m \u001B[0max\u001B[0m\u001B[0;34m.\u001B[0m\u001B[0m_reindex_non_unique\u001B[0m\u001B[0;34m(\u001B[0m\u001B[0mkeyarr\u001B[0m\u001B[0;34m)\u001B[0m\u001B[0;34m\u001B[0m\u001B[0;34m\u001B[0m\u001B[0m\n\u001B[1;32m   1253\u001B[0m \u001B[0;34m\u001B[0m\u001B[0m\n\u001B[0;32m-> 1254\u001B[0;31m         \u001B[0mself\u001B[0m\u001B[0;34m.\u001B[0m\u001B[0m_validate_read_indexer\u001B[0m\u001B[0;34m(\u001B[0m\u001B[0mkeyarr\u001B[0m\u001B[0;34m,\u001B[0m \u001B[0mindexer\u001B[0m\u001B[0;34m,\u001B[0m \u001B[0maxis\u001B[0m\u001B[0;34m,\u001B[0m \u001B[0mraise_missing\u001B[0m\u001B[0;34m=\u001B[0m\u001B[0mraise_missing\u001B[0m\u001B[0;34m)\u001B[0m\u001B[0;34m\u001B[0m\u001B[0;34m\u001B[0m\u001B[0m\n\u001B[0m\u001B[1;32m   1255\u001B[0m         \u001B[0;32mreturn\u001B[0m \u001B[0mkeyarr\u001B[0m\u001B[0;34m,\u001B[0m \u001B[0mindexer\u001B[0m\u001B[0;34m\u001B[0m\u001B[0;34m\u001B[0m\u001B[0m\n\u001B[1;32m   1256\u001B[0m \u001B[0;34m\u001B[0m\u001B[0m\n",
      "\u001B[0;32m~/.local/lib/python3.8/site-packages/pandas/core/indexing.py\u001B[0m in \u001B[0;36m_validate_read_indexer\u001B[0;34m(self, key, indexer, axis, raise_missing)\u001B[0m\n\u001B[1;32m   1302\u001B[0m             \u001B[0;32mif\u001B[0m \u001B[0mraise_missing\u001B[0m\u001B[0;34m:\u001B[0m\u001B[0;34m\u001B[0m\u001B[0;34m\u001B[0m\u001B[0m\n\u001B[1;32m   1303\u001B[0m                 \u001B[0mnot_found\u001B[0m \u001B[0;34m=\u001B[0m \u001B[0mlist\u001B[0m\u001B[0;34m(\u001B[0m\u001B[0mset\u001B[0m\u001B[0;34m(\u001B[0m\u001B[0mkey\u001B[0m\u001B[0;34m)\u001B[0m \u001B[0;34m-\u001B[0m \u001B[0mset\u001B[0m\u001B[0;34m(\u001B[0m\u001B[0max\u001B[0m\u001B[0;34m)\u001B[0m\u001B[0;34m)\u001B[0m\u001B[0;34m\u001B[0m\u001B[0;34m\u001B[0m\u001B[0m\n\u001B[0;32m-> 1304\u001B[0;31m                 \u001B[0;32mraise\u001B[0m \u001B[0mKeyError\u001B[0m\u001B[0;34m(\u001B[0m\u001B[0;34mf\"{not_found} not in index\"\u001B[0m\u001B[0;34m)\u001B[0m\u001B[0;34m\u001B[0m\u001B[0;34m\u001B[0m\u001B[0m\n\u001B[0m\u001B[1;32m   1305\u001B[0m \u001B[0;34m\u001B[0m\u001B[0m\n\u001B[1;32m   1306\u001B[0m             \u001B[0;31m# we skip the warning on Categorical\u001B[0m\u001B[0;34m\u001B[0m\u001B[0;34m\u001B[0m\u001B[0;34m\u001B[0m\u001B[0m\n",
      "\u001B[0;31mKeyError\u001B[0m: \"['Flop Card 1', 'Bet Size Flop (fraction of pot)', 'Bet Size River (fraction of pot)', 'Flop Card 3', 'River Card', 'Flop Card 2', 'Suited Hand Suit', 'Turn Card', 'Bet Size Turn (fraction of pot)'] not in index\""
     ]
    }
   ],
   "source": [],
   "metadata": {
    "collapsed": false
   }
  },
  {
   "cell_type": "code",
   "execution_count": null,
   "outputs": [],
   "source": [],
   "metadata": {
    "collapsed": false
   }
  },
  {
   "cell_type": "code",
   "execution_count": null,
   "outputs": [],
   "source": [],
   "metadata": {
    "collapsed": false
   }
  }
 ],
 "metadata": {
  "kernelspec": {
   "display_name": "Python 3",
   "language": "python",
   "name": "python3"
  },
  "language_info": {
   "codemirror_mode": {
    "name": "ipython",
    "version": 2
   },
   "file_extension": ".py",
   "mimetype": "text/x-python",
   "name": "python",
   "nbconvert_exporter": "python",
   "pygments_lexer": "ipython2",
   "version": "2.7.6"
  }
 },
 "nbformat": 4,
 "nbformat_minor": 0
}
